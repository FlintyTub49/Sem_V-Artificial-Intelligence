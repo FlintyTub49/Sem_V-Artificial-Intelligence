{
  "nbformat": 4,
  "nbformat_minor": 0,
  "metadata": {
    "colab": {
      "name": "CW_J003_040720.ipynb",
      "provenance": [],
      "collapsed_sections": [],
      "authorship_tag": "ABX9TyPe/Wu8VuovsH6GoghfWfox",
      "include_colab_link": true
    },
    "kernelspec": {
      "name": "python3",
      "display_name": "Python 3"
    }
  },
  "cells": [
    {
      "cell_type": "markdown",
      "metadata": {
        "id": "view-in-github",
        "colab_type": "text"
      },
      "source": [
        "<a href=\"https://colab.research.google.com/github/FlintyTub49/Sem_V-Artificial-Intelligence/blob/master/Classwork/CW_J003_040720.ipynb\" target=\"_parent\"><img src=\"https://colab.research.google.com/assets/colab-badge.svg\" alt=\"Open In Colab\"/></a>"
      ]
    },
    {
      "cell_type": "code",
      "metadata": {
        "id": "rg7rJmThPH7c",
        "colab_type": "code",
        "colab": {
          "base_uri": "https://localhost:8080/",
          "height": 54
        },
        "outputId": "a8185b32-7202-42b1-cea1-b93324d0e1dd"
      },
      "source": [
        "#List\n",
        "a = [1,2,3,4,5,'Human']\n",
        "\n",
        "#Tuple\n",
        "a = (1,2,3,4,5,'Human')\n",
        "\n",
        "#Set\n",
        "a = {'list':[1,2,3,4,5,'Human'],\n",
        "     'tuple':(1,2,3,4,5,'Human'),\n",
        "      'set':{1,2,2,4,5,'Human','Human'}}\n",
        "print(a)"
      ],
      "execution_count": 1,
      "outputs": [
        {
          "output_type": "stream",
          "text": [
            "{'list': [1, 2, 3, 4, 5, 'Human'], 'tuple': (1, 2, 3, 4, 5, 'Human'), 'set': {1, 2, 4, 5, 'Human'}}\n"
          ],
          "name": "stdout"
        }
      ]
    },
    {
      "cell_type": "code",
      "metadata": {
        "id": "F8wz8AuyPo7T",
        "colab_type": "code",
        "colab": {}
      },
      "source": [
        "a = {1,2,3,4,5}\n",
        "b = {2,3,4,5,6}\n",
        "c = {3,3,4,5,6}"
      ],
      "execution_count": 2,
      "outputs": []
    },
    {
      "cell_type": "code",
      "metadata": {
        "id": "6tCAlFnsPw8J",
        "colab_type": "code",
        "colab": {
          "base_uri": "https://localhost:8080/",
          "height": 51
        },
        "outputId": "8cf2fe83-220c-414c-e563-d2448a51a8a0"
      },
      "source": [
        "a.add(100)\n",
        "c.add(100)\n",
        "print(a)\n",
        "print(c)"
      ],
      "execution_count": 3,
      "outputs": [
        {
          "output_type": "stream",
          "text": [
            "{1, 2, 3, 4, 5, 100}\n",
            "{3, 100, 4, 5, 6}\n"
          ],
          "name": "stdout"
        }
      ]
    },
    {
      "cell_type": "markdown",
      "metadata": {
        "id": "51pyNRZYQr42",
        "colab_type": "text"
      },
      "source": [
        "##### If we add an element to a set which has recurrinig values, the new element replaces the first recurring element"
      ]
    },
    {
      "cell_type": "code",
      "metadata": {
        "id": "KOfKBB1rP0LJ",
        "colab_type": "code",
        "colab": {
          "base_uri": "https://localhost:8080/",
          "height": 34
        },
        "outputId": "98645825-6667-4864-db35-8bf364e6697c"
      },
      "source": [
        "z = a.isdisjoint(b)\n",
        "print(z)"
      ],
      "execution_count": 4,
      "outputs": [
        {
          "output_type": "stream",
          "text": [
            "False\n"
          ],
          "name": "stdout"
        }
      ]
    },
    {
      "cell_type": "markdown",
      "metadata": {
        "id": "XlZa7r7RRonL",
        "colab_type": "text"
      },
      "source": [
        "###### Pop a value from the set at random"
      ]
    },
    {
      "cell_type": "code",
      "metadata": {
        "id": "mBwH9S1YQ90j",
        "colab_type": "code",
        "colab": {
          "base_uri": "https://localhost:8080/",
          "height": 34
        },
        "outputId": "2e104a75-d2ec-4255-eb04-66bfcd66b665"
      },
      "source": [
        "a.pop()\n",
        "print(a)"
      ],
      "execution_count": 5,
      "outputs": [
        {
          "output_type": "stream",
          "text": [
            "{2, 3, 4, 5, 100}\n"
          ],
          "name": "stdout"
        }
      ]
    },
    {
      "cell_type": "markdown",
      "metadata": {
        "id": "Tj3BalobSxjd",
        "colab_type": "text"
      },
      "source": [
        "##### To find intersection of two sets"
      ]
    },
    {
      "cell_type": "code",
      "metadata": {
        "id": "Tv8H-xVcRbTC",
        "colab_type": "code",
        "colab": {
          "base_uri": "https://localhost:8080/",
          "height": 34
        },
        "outputId": "a5d9ccf7-605e-4ed5-e04a-b3a4d28ce857"
      },
      "source": [
        "a.intersection(b)"
      ],
      "execution_count": 6,
      "outputs": [
        {
          "output_type": "execute_result",
          "data": {
            "text/plain": [
              "{2, 3, 4, 5}"
            ]
          },
          "metadata": {
            "tags": []
          },
          "execution_count": 6
        }
      ]
    },
    {
      "cell_type": "markdown",
      "metadata": {
        "id": "eh1_5jKOTEXv",
        "colab_type": "text"
      },
      "source": [
        "##### To update the value of union the set in the orginal set\n",
        "\n"
      ]
    },
    {
      "cell_type": "code",
      "metadata": {
        "id": "vnzGfzfiSA7V",
        "colab_type": "code",
        "colab": {
          "base_uri": "https://localhost:8080/",
          "height": 34
        },
        "outputId": "d7be92e2-6bc8-4873-b879-0289fc5d7464"
      },
      "source": [
        "a.update(b)\n",
        "print(a)"
      ],
      "execution_count": 7,
      "outputs": [
        {
          "output_type": "stream",
          "text": [
            "{2, 3, 4, 5, 100, 6}\n"
          ],
          "name": "stdout"
        }
      ]
    },
    {
      "cell_type": "markdown",
      "metadata": {
        "id": "ovFTZN6CUGwL",
        "colab_type": "text"
      },
      "source": [
        "##### To discard a specific value in a set"
      ]
    },
    {
      "cell_type": "code",
      "metadata": {
        "id": "9dErqRcnTM0x",
        "colab_type": "code",
        "colab": {
          "base_uri": "https://localhost:8080/",
          "height": 34
        },
        "outputId": "2253188b-b77d-49f2-a971-fce8bfcd0baf"
      },
      "source": [
        "c.discard(3)\n",
        "print(c)"
      ],
      "execution_count": 8,
      "outputs": [
        {
          "output_type": "stream",
          "text": [
            "{100, 4, 5, 6}\n"
          ],
          "name": "stdout"
        }
      ]
    },
    {
      "cell_type": "markdown",
      "metadata": {
        "id": "IQYfHl6pVd_e",
        "colab_type": "text"
      },
      "source": [
        "##### To find if a particular set is a subset of another"
      ]
    },
    {
      "cell_type": "code",
      "metadata": {
        "id": "GPLU9ztTUzwa",
        "colab_type": "code",
        "colab": {
          "base_uri": "https://localhost:8080/",
          "height": 34
        },
        "outputId": "b0ffe3fc-0e89-480f-ba48-7badd84b70bb"
      },
      "source": [
        "b.add(100)\n",
        "c.issubset(b)"
      ],
      "execution_count": 9,
      "outputs": [
        {
          "output_type": "execute_result",
          "data": {
            "text/plain": [
              "True"
            ]
          },
          "metadata": {
            "tags": []
          },
          "execution_count": 9
        }
      ]
    },
    {
      "cell_type": "markdown",
      "metadata": {
        "id": "l-_65riyWVdh",
        "colab_type": "text"
      },
      "source": [
        "##### To Find the difference between 2 Sets"
      ]
    },
    {
      "cell_type": "code",
      "metadata": {
        "id": "dt-eZT2_WRZa",
        "colab_type": "code",
        "colab": {
          "base_uri": "https://localhost:8080/",
          "height": 34
        },
        "outputId": "f1af933b-2b2a-4a6a-cbe8-9d462866ed92"
      },
      "source": [
        "b.difference(c)"
      ],
      "execution_count": 10,
      "outputs": [
        {
          "output_type": "execute_result",
          "data": {
            "text/plain": [
              "{2, 3}"
            ]
          },
          "metadata": {
            "tags": []
          },
          "execution_count": 10
        }
      ]
    },
    {
      "cell_type": "markdown",
      "metadata": {
        "id": "k2MdkI0rW05z",
        "colab_type": "text"
      },
      "source": [
        "##### To find if a set is superset of another subset"
      ]
    },
    {
      "cell_type": "code",
      "metadata": {
        "id": "go2l_PfMW6EY",
        "colab_type": "code",
        "colab": {
          "base_uri": "https://localhost:8080/",
          "height": 34
        },
        "outputId": "c3aa2b0a-298d-49a8-be31-0656e589d599"
      },
      "source": [
        "b.issuperset(c)"
      ],
      "execution_count": 11,
      "outputs": [
        {
          "output_type": "execute_result",
          "data": {
            "text/plain": [
              "True"
            ]
          },
          "metadata": {
            "tags": []
          },
          "execution_count": 11
        }
      ]
    },
    {
      "cell_type": "code",
      "metadata": {
        "id": "e7U_q_Bf4uF9",
        "colab_type": "code",
        "colab": {}
      },
      "source": [
        ""
      ],
      "execution_count": null,
      "outputs": []
    }
  ]
}