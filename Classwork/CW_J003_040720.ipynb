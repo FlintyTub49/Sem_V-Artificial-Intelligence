{
  "nbformat": 4,
  "nbformat_minor": 0,
  "metadata": {
    "colab": {
      "name": "Welcome To Colaboratory",
      "provenance": [],
      "collapsed_sections": [],
      "toc_visible": true,
      "include_colab_link": true
    },
    "kernelspec": {
      "display_name": "Python 3",
      "name": "python3"
    }
  },
  "cells": [
    {
      "cell_type": "markdown",
      "metadata": {
        "id": "view-in-github",
        "colab_type": "text"
      },
      "source": [
        "<a href=\"https://colab.research.google.com/github/FlintyTub49/Sem_V-Artificial-Intelligence/blob/master/Classwork/Basics%20Of%20Python%20-%204th%20July'20.ipynb\" target=\"_parent\"><img src=\"https://colab.research.google.com/assets/colab-badge.svg\" alt=\"Open In Colab\"/></a>"
      ]
    },
    {
      "cell_type": "code",
      "metadata": {
        "id": "UircBSp9IfWo",
        "colab_type": "code",
        "colab": {
          "base_uri": "https://localhost:8080/",
          "height": 34
        },
        "outputId": "d4e018b7-5e3c-4a31-abf5-439b36872430"
      },
      "source": [
        "#List\n",
        "a = [1,2,3,4,5,'Human']\n",
        "\n",
        "#Tuple\n",
        "a = (1,2,3,4,5,'Human')\n",
        "\n",
        "#Dictionary\n",
        "a = {'List':[1,2,3,4,5,'Human'],\n",
        "     'Tuple':(1,2,3,4,5,'Human'), \n",
        "     'set':{1,2,2,4,5,'Human'}}\n",
        "\n",
        "print(a)"
      ],
      "execution_count": 16,
      "outputs": [
        {
          "output_type": "stream",
          "text": [
            "{'List': [1, 2, 3, 4, 5, 'Human'], 'Tuple': (1, 2, 3, 4, 5, 'Human'), 'set': {1, 2, 4, 5, 'Human'}}\n"
          ],
          "name": "stdout"
        }
      ]
    },
    {
      "cell_type": "code",
      "metadata": {
        "id": "OGGy3IX0I5JL",
        "colab_type": "code",
        "colab": {
          "base_uri": "https://localhost:8080/",
          "height": 34
        },
        "outputId": "b62ce630-86fe-4447-b4e8-722be0603a58"
      },
      "source": [
        "type(a)"
      ],
      "execution_count": 15,
      "outputs": [
        {
          "output_type": "execute_result",
          "data": {
            "text/plain": [
              "dict"
            ]
          },
          "metadata": {
            "tags": []
          },
          "execution_count": 15
        }
      ]
    },
    {
      "cell_type": "code",
      "metadata": {
        "id": "zUZxg-BMLfuS",
        "colab_type": "code",
        "colab": {}
      },
      "source": [
        ""
      ],
      "execution_count": null,
      "outputs": []
    }
  ]
}
