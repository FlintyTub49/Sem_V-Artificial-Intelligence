{
  "nbformat": 4,
  "nbformat_minor": 0,
  "metadata": {
    "colab": {
      "name": "Basics Of Python .ipynb",
      "provenance": [],
      "collapsed_sections": [],
      "authorship_tag": "ABX9TyNrHyTAFr+Y4D8RxOEv/zf8",
      "include_colab_link": true
    },
    "kernelspec": {
      "name": "python3",
      "display_name": "Python 3"
    }
  },
  "cells": [
    {
      "cell_type": "markdown",
      "metadata": {
        "id": "view-in-github",
        "colab_type": "text"
      },
      "source": [
        "<a href=\"https://colab.research.google.com/github/FlintyTub49/Sem_V-Artificial-Intelligence/blob/master/Classwork/CW_J003_04072020.ipynb\" target=\"_parent\"><img src=\"https://colab.research.google.com/assets/colab-badge.svg\" alt=\"Open In Colab\"/></a>"
      ]
    },
    {
      "cell_type": "code",
      "metadata": {
        "id": "rg7rJmThPH7c",
        "colab_type": "code",
        "colab": {
          "base_uri": "https://localhost:8080/",
          "height": 34
        },
        "outputId": "80d666eb-41fa-48a0-c285-746799151ade"
      },
      "source": [
        "#List\n",
        "a = [1,2,3,4,5,'Human']\n",
        "\n",
        "#Tuple\n",
        "a = (1,2,3,4,5,'Human')\n",
        "\n",
        "#Set\n",
        "a = {'list':[1,2,3,4,5,'Human'],\n",
        "     'tuple':(1,2,3,4,5,'Human'),\n",
        "      'set':{1,2,2,4,5,'Human','Human'}}\n",
        "print(a)"
      ],
      "execution_count": 1,
      "outputs": [
        {
          "output_type": "stream",
          "text": [
            "{'list': [1, 2, 3, 4, 5, 'Human'], 'tuple': (1, 2, 3, 4, 5, 'Human'), 'set': {1, 2, 4, 5, 'Human'}}\n"
          ],
          "name": "stdout"
        }
      ]
    },
    {
      "cell_type": "code",
      "metadata": {
        "id": "F8wz8AuyPo7T",
        "colab_type": "code",
        "colab": {}
      },
      "source": [
        "a = {1,2,3,4,5}\n",
        "b = {2,3,4,5,6}\n",
        "c = {3,3,4,5,6}"
      ],
      "execution_count": 2,
      "outputs": []
    },
    {
      "cell_type": "code",
      "metadata": {
        "id": "6tCAlFnsPw8J",
        "colab_type": "code",
        "colab": {
          "base_uri": "https://localhost:8080/",
          "height": 51
        },
        "outputId": "f5a13161-6e1e-412a-aedd-e20cb51babb9"
      },
      "source": [
        "a.add(100)\n",
        "c.add(100)\n",
        "print(a)\n",
        "print(c)"
      ],
      "execution_count": 25,
      "outputs": [
        {
          "output_type": "stream",
          "text": [
            "{2, 3, 4, 5, 100, 6}\n",
            "{100, 4, 5, 6}\n"
          ],
          "name": "stdout"
        }
      ]
    },
    {
      "cell_type": "markdown",
      "metadata": {
        "id": "51pyNRZYQr42",
        "colab_type": "text"
      },
      "source": [
        "##### If we add an element to a set which has recurrinig values, the new element replaces the first recurring element"
      ]
    },
    {
      "cell_type": "code",
      "metadata": {
        "id": "KOfKBB1rP0LJ",
        "colab_type": "code",
        "colab": {
          "base_uri": "https://localhost:8080/",
          "height": 34
        },
        "outputId": "4a87762c-c63b-41a7-8172-bf4914ae31d7"
      },
      "source": [
        "z = a.isdisjoint(b)\n",
        "print(z)"
      ],
      "execution_count": 26,
      "outputs": [
        {
          "output_type": "stream",
          "text": [
            "False\n"
          ],
          "name": "stdout"
        }
      ]
    },
    {
      "cell_type": "markdown",
      "metadata": {
        "id": "XlZa7r7RRonL",
        "colab_type": "text"
      },
      "source": [
        "###### Pop a value from the set from the right"
      ]
    },
    {
      "cell_type": "code",
      "metadata": {
        "id": "mBwH9S1YQ90j",
        "colab_type": "code",
        "colab": {
          "base_uri": "https://localhost:8080/",
          "height": 34
        },
        "outputId": "df7278d3-757c-4751-9be2-4050ed991f68"
      },
      "source": [
        "a.pop()\n",
        "print(a)"
      ],
      "execution_count": 27,
      "outputs": [
        {
          "output_type": "stream",
          "text": [
            "{3, 4, 5, 100, 6}\n"
          ],
          "name": "stdout"
        }
      ]
    },
    {
      "cell_type": "markdown",
      "metadata": {
        "id": "Tj3BalobSxjd",
        "colab_type": "text"
      },
      "source": [
        "##### To find intersection of two sets"
      ]
    },
    {
      "cell_type": "code",
      "metadata": {
        "id": "Tv8H-xVcRbTC",
        "colab_type": "code",
        "colab": {
          "base_uri": "https://localhost:8080/",
          "height": 34
        },
        "outputId": "a3038aab-7fc7-49db-e8b0-6fa1360aef5e"
      },
      "source": [
        "a.intersection(b)"
      ],
      "execution_count": 28,
      "outputs": [
        {
          "output_type": "execute_result",
          "data": {
            "text/plain": [
              "{3, 4, 5, 6, 100}"
            ]
          },
          "metadata": {
            "tags": []
          },
          "execution_count": 28
        }
      ]
    },
    {
      "cell_type": "markdown",
      "metadata": {
        "id": "eh1_5jKOTEXv",
        "colab_type": "text"
      },
      "source": [
        "##### To update the value of union the set in the orginal set"
      ]
    },
    {
      "cell_type": "code",
      "metadata": {
        "id": "vnzGfzfiSA7V",
        "colab_type": "code",
        "colab": {
          "base_uri": "https://localhost:8080/",
          "height": 34
        },
        "outputId": "d071c2d0-023e-435d-a3f3-104e57ae6dfb"
      },
      "source": [
        "a.update(b)\n",
        "print(a)"
      ],
      "execution_count": 10,
      "outputs": [
        {
          "output_type": "stream",
          "text": [
            "{2, 3, 4, 5, 100, 6}\n"
          ],
          "name": "stdout"
        }
      ]
    },
    {
      "cell_type": "markdown",
      "metadata": {
        "id": "ovFTZN6CUGwL",
        "colab_type": "text"
      },
      "source": [
        "##### To discard a specific value in a set"
      ]
    },
    {
      "cell_type": "code",
      "metadata": {
        "id": "9dErqRcnTM0x",
        "colab_type": "code",
        "colab": {
          "base_uri": "https://localhost:8080/",
          "height": 34
        },
        "outputId": "f59c98f4-9fbe-4f9e-9bca-c66fdfea610a"
      },
      "source": [
        "c.discard(3)\n",
        "print(c)"
      ],
      "execution_count": 11,
      "outputs": [
        {
          "output_type": "stream",
          "text": [
            "{100, 4, 5, 6}\n"
          ],
          "name": "stdout"
        }
      ]
    },
    {
      "cell_type": "markdown",
      "metadata": {
        "id": "IQYfHl6pVd_e",
        "colab_type": "text"
      },
      "source": [
        "##### To find if a particular set is a subset of another"
      ]
    },
    {
      "cell_type": "code",
      "metadata": {
        "id": "GPLU9ztTUzwa",
        "colab_type": "code",
        "colab": {
          "base_uri": "https://localhost:8080/",
          "height": 34
        },
        "outputId": "ad316385-60ac-4fb3-ced3-bf90fb55ffa7"
      },
      "source": [
        "b.add(100)\n",
        "c.issubset(b)"
      ],
      "execution_count": 18,
      "outputs": [
        {
          "output_type": "execute_result",
          "data": {
            "text/plain": [
              "True"
            ]
          },
          "metadata": {
            "tags": []
          },
          "execution_count": 18
        }
      ]
    },
    {
      "cell_type": "markdown",
      "metadata": {
        "id": "l-_65riyWVdh",
        "colab_type": "text"
      },
      "source": [
        "##### To Find the difference between 2 Sets"
      ]
    },
    {
      "cell_type": "code",
      "metadata": {
        "id": "dt-eZT2_WRZa",
        "colab_type": "code",
        "colab": {
          "base_uri": "https://localhost:8080/",
          "height": 34
        },
        "outputId": "b2cfa4d2-841d-42d3-dc4a-acdf4e6635e6"
      },
      "source": [
        "b.difference(c)"
      ],
      "execution_count": 23,
      "outputs": [
        {
          "output_type": "execute_result",
          "data": {
            "text/plain": [
              "{2, 3}"
            ]
          },
          "metadata": {
            "tags": []
          },
          "execution_count": 23
        }
      ]
    },
    {
      "cell_type": "markdown",
      "metadata": {
        "id": "k2MdkI0rW05z",
        "colab_type": "text"
      },
      "source": [
        "##### To find if a set is superset of another subset"
      ]
    },
    {
      "cell_type": "code",
      "metadata": {
        "id": "go2l_PfMW6EY",
        "colab_type": "code",
        "colab": {
          "base_uri": "https://localhost:8080/",
          "height": 34
        },
        "outputId": "cbc63d97-bf25-482d-e85d-3470125d2fad"
      },
      "source": [
        "b.issuperset(c)"
      ],
      "execution_count": 24,
      "outputs": [
        {
          "output_type": "execute_result",
          "data": {
            "text/plain": [
              "True"
            ]
          },
          "metadata": {
            "tags": []
          },
          "execution_count": 24
        }
      ]
    }
  ]
}