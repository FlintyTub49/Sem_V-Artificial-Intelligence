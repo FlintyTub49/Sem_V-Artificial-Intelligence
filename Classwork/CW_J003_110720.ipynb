{
  "nbformat": 4,
  "nbformat_minor": 0,
  "metadata": {
    "colab": {
      "name": "CW_J003_110720.ipynb",
      "provenance": [],
      "collapsed_sections": [],
      "authorship_tag": "ABX9TyMfecR1cUrgfNct7frjQGjT",
      "include_colab_link": true
    },
    "kernelspec": {
      "name": "python3",
      "display_name": "Python 3"
    }
  },
  "cells": [
    {
      "cell_type": "markdown",
      "metadata": {
        "id": "view-in-github",
        "colab_type": "text"
      },
      "source": [
        "<a href=\"https://colab.research.google.com/github/FlintyTub49/Sem_V-Artificial-Intelligence/blob/master/Classwork/CW_J003_110720.ipynb\" target=\"_parent\"><img src=\"https://colab.research.google.com/assets/colab-badge.svg\" alt=\"Open In Colab\"/></a>"
      ]
    },
    {
      "cell_type": "code",
      "metadata": {
        "id": "LV1ipZYv1Lyb",
        "colab_type": "code",
        "colab": {
          "base_uri": "https://localhost:8080/",
          "height": 34
        },
        "outputId": "34184e07-145c-4d16-9c77-8353ebea0dd2"
      },
      "source": [
        "#List\n",
        "a = [1,2,3,4,5,'Human']\n",
        "\n",
        "#Tuple\n",
        "a = (1,2,3,4,5,'Human')\n",
        "\n",
        "#Set\n",
        "a = {'list':[1,2,3,4,5,'Human'],\n",
        "     'tuple':(1,2,3,4,5,'Human'),\n",
        "      'set':{1,2,2,4,5,'Human','Human'}}\n",
        "print(a)"
      ],
      "execution_count": 1,
      "outputs": [
        {
          "output_type": "stream",
          "text": [
            "{'list': [1, 2, 3, 4, 5, 'Human'], 'tuple': (1, 2, 3, 4, 5, 'Human'), 'set': {1, 2, 'Human', 4, 5}}\n"
          ],
          "name": "stdout"
        }
      ]
    },
    {
      "cell_type": "code",
      "metadata": {
        "id": "M6TroeMR2sBC",
        "colab_type": "code",
        "colab": {}
      },
      "source": [
        "a = {1,2,3,4,5}\n",
        "b = {2,3,4,5,6}\n",
        "c = {3,3,4,5,6}"
      ],
      "execution_count": 2,
      "outputs": []
    },
    {
      "cell_type": "code",
      "metadata": {
        "id": "wn44vswK2uVx",
        "colab_type": "code",
        "colab": {
          "base_uri": "https://localhost:8080/",
          "height": 51
        },
        "outputId": "8e763712-786e-428e-e6c2-11a85081fb49"
      },
      "source": [
        "a.add(100)\n",
        "c.add(100)\n",
        "print(a)\n",
        "print(c)"
      ],
      "execution_count": 3,
      "outputs": [
        {
          "output_type": "stream",
          "text": [
            "{1, 2, 3, 4, 5, 100}\n",
            "{3, 100, 4, 5, 6}\n"
          ],
          "name": "stdout"
        }
      ]
    },
    {
      "cell_type": "markdown",
      "metadata": {
        "id": "jOE_73ul20O0",
        "colab_type": "text"
      },
      "source": [
        "If we add an element to a set which has recurrinig values, the new element replaces the first recurring element"
      ]
    },
    {
      "cell_type": "code",
      "metadata": {
        "id": "K3VHA8yo2wWa",
        "colab_type": "code",
        "colab": {
          "base_uri": "https://localhost:8080/",
          "height": 34
        },
        "outputId": "687e83e1-c45d-4dbe-9463-d603a78fd681"
      },
      "source": [
        "z = a.isdisjoint(b)\n",
        "print(z)"
      ],
      "execution_count": 4,
      "outputs": [
        {
          "output_type": "stream",
          "text": [
            "False\n"
          ],
          "name": "stdout"
        }
      ]
    },
    {
      "cell_type": "markdown",
      "metadata": {
        "id": "9_RtKrs_23vk",
        "colab_type": "text"
      },
      "source": [
        "Pop a value at random"
      ]
    },
    {
      "cell_type": "code",
      "metadata": {
        "id": "fFfLERg422ir",
        "colab_type": "code",
        "colab": {
          "base_uri": "https://localhost:8080/",
          "height": 34
        },
        "outputId": "eeacac47-c74b-4701-bdab-c249578b9b31"
      },
      "source": [
        "a.pop()\n",
        "print(a)"
      ],
      "execution_count": 5,
      "outputs": [
        {
          "output_type": "stream",
          "text": [
            "{2, 3, 4, 5, 100}\n"
          ],
          "name": "stdout"
        }
      ]
    },
    {
      "cell_type": "markdown",
      "metadata": {
        "id": "4Z8aCMc33Tss",
        "colab_type": "text"
      },
      "source": [
        "To find intersection of two sets"
      ]
    },
    {
      "cell_type": "code",
      "metadata": {
        "id": "g0yZQoIh3MKp",
        "colab_type": "code",
        "colab": {
          "base_uri": "https://localhost:8080/",
          "height": 34
        },
        "outputId": "059d8bc0-f0ae-4f27-c3b1-983095179e5f"
      },
      "source": [
        "a.intersection(b)"
      ],
      "execution_count": 6,
      "outputs": [
        {
          "output_type": "execute_result",
          "data": {
            "text/plain": [
              "{2, 3, 4, 5}"
            ]
          },
          "metadata": {
            "tags": []
          },
          "execution_count": 6
        }
      ]
    },
    {
      "cell_type": "markdown",
      "metadata": {
        "id": "k47qUGls3tcv",
        "colab_type": "text"
      },
      "source": [
        "To update the value of union the set in the orginal set"
      ]
    },
    {
      "cell_type": "code",
      "metadata": {
        "id": "R6zzGxhL3VvM",
        "colab_type": "code",
        "colab": {
          "base_uri": "https://localhost:8080/",
          "height": 34
        },
        "outputId": "a4abbe93-0d64-42e8-8cba-71c5798c13fb"
      },
      "source": [
        "a.update(b)\n",
        "print(a)"
      ],
      "execution_count": 7,
      "outputs": [
        {
          "output_type": "stream",
          "text": [
            "{2, 3, 4, 5, 100, 6}\n"
          ],
          "name": "stdout"
        }
      ]
    },
    {
      "cell_type": "markdown",
      "metadata": {
        "id": "wELJ436p3wOz",
        "colab_type": "text"
      },
      "source": [
        "To discard a specific value in a set"
      ]
    },
    {
      "cell_type": "code",
      "metadata": {
        "id": "IKspUNZM3ZLt",
        "colab_type": "code",
        "colab": {
          "base_uri": "https://localhost:8080/",
          "height": 34
        },
        "outputId": "0593908d-e76f-4dff-8c36-9f008e724c8a"
      },
      "source": [
        "c.discard(3)\n",
        "print(c)"
      ],
      "execution_count": 8,
      "outputs": [
        {
          "output_type": "stream",
          "text": [
            "{100, 4, 5, 6}\n"
          ],
          "name": "stdout"
        }
      ]
    },
    {
      "cell_type": "markdown",
      "metadata": {
        "id": "poyJuZut30un",
        "colab_type": "text"
      },
      "source": [
        "To find if a particular set is a subset of another"
      ]
    },
    {
      "cell_type": "code",
      "metadata": {
        "id": "v7RPYNEW3b7i",
        "colab_type": "code",
        "colab": {
          "base_uri": "https://localhost:8080/",
          "height": 34
        },
        "outputId": "1b617450-b3d5-4d09-f678-4b6b8a59aed4"
      },
      "source": [
        "b.add(100)\n",
        "c.issubset(b)"
      ],
      "execution_count": 9,
      "outputs": [
        {
          "output_type": "execute_result",
          "data": {
            "text/plain": [
              "True"
            ]
          },
          "metadata": {
            "tags": []
          },
          "execution_count": 9
        }
      ]
    },
    {
      "cell_type": "markdown",
      "metadata": {
        "id": "wTsxLBes37eb",
        "colab_type": "text"
      },
      "source": [
        "To Find the difference between 2 Sets"
      ]
    },
    {
      "cell_type": "code",
      "metadata": {
        "id": "Sbzxmfee3dnS",
        "colab_type": "code",
        "colab": {
          "base_uri": "https://localhost:8080/",
          "height": 34
        },
        "outputId": "513092b3-e565-4512-d73a-12a824736b7f"
      },
      "source": [
        "b.difference(c)"
      ],
      "execution_count": 10,
      "outputs": [
        {
          "output_type": "execute_result",
          "data": {
            "text/plain": [
              "{2, 3}"
            ]
          },
          "metadata": {
            "tags": []
          },
          "execution_count": 10
        }
      ]
    },
    {
      "cell_type": "markdown",
      "metadata": {
        "id": "44n1rr9-3_Kd",
        "colab_type": "text"
      },
      "source": [
        "To find if a set is superset of another subset"
      ]
    },
    {
      "cell_type": "code",
      "metadata": {
        "id": "I8S15GAE3fTt",
        "colab_type": "code",
        "colab": {
          "base_uri": "https://localhost:8080/",
          "height": 34
        },
        "outputId": "2859ddd7-44c2-44a4-9af5-ee1b2e2c6b62"
      },
      "source": [
        "b.issuperset(c)"
      ],
      "execution_count": 11,
      "outputs": [
        {
          "output_type": "execute_result",
          "data": {
            "text/plain": [
              "True"
            ]
          },
          "metadata": {
            "tags": []
          },
          "execution_count": 11
        }
      ]
    },
    {
      "cell_type": "code",
      "metadata": {
        "id": "N4g5McLP7NXT",
        "colab_type": "code",
        "colab": {}
      },
      "source": [
        "a = 4\n",
        "b = 6\n",
        "c = 8"
      ],
      "execution_count": 12,
      "outputs": []
    },
    {
      "cell_type": "markdown",
      "metadata": {
        "id": "04yHgH1FAtWp",
        "colab_type": "text"
      },
      "source": [
        "Making a function to reuse in our code"
      ]
    },
    {
      "cell_type": "code",
      "metadata": {
        "id": "3jpw95zu4WUE",
        "colab_type": "code",
        "colab": {}
      },
      "source": [
        "def printer():\n",
        "  print(a+b)\n",
        "def sum(a,b):\n",
        "  print(a+b)"
      ],
      "execution_count": 13,
      "outputs": []
    },
    {
      "cell_type": "code",
      "metadata": {
        "id": "PXkwPoc96fJy",
        "colab_type": "code",
        "colab": {
          "base_uri": "https://localhost:8080/"
        },
        "outputId": "ed0b1bd0-1aa9-4849-f0c9-f8a802e14318"
      },
      "source": [
        "printer()"
      ],
      "execution_count": 14,
      "outputs": [
        {
          "output_type": "stream",
          "text": [
            "10\n"
          ],
          "name": "stdout"
        }
      ]
    },
    {
      "cell_type": "code",
      "metadata": {
        "id": "yInEaQOm63Fj",
        "colab_type": "code",
        "colab": {
          "base_uri": "https://localhost:8080/"
        },
        "outputId": "63d21376-3c34-485c-99c9-879b5a4d93c0"
      },
      "source": [
        "sum(a,c)"
      ],
      "execution_count": 15,
      "outputs": [
        {
          "output_type": "stream",
          "text": [
            "12\n"
          ],
          "name": "stdout"
        }
      ]
    },
    {
      "cell_type": "markdown",
      "metadata": {
        "id": "n1LmzaVsA9UM",
        "colab_type": "text"
      },
      "source": [
        "Indenting to define an if and else block"
      ]
    },
    {
      "cell_type": "code",
      "metadata": {
        "id": "Fir4jUjh7i7_",
        "colab_type": "code",
        "colab": {
          "base_uri": "https://localhost:8080/",
          "height": 34
        },
        "outputId": "4a616b88-55de-4ba2-bbf7-a163aacfd6b0"
      },
      "source": [
        "if a>9:\n",
        "  print(a)\n",
        "else:\n",
        "  print(a+9)"
      ],
      "execution_count": 16,
      "outputs": [
        {
          "output_type": "stream",
          "text": [
            "13\n"
          ],
          "name": "stdout"
        }
      ]
    },
    {
      "cell_type": "markdown",
      "metadata": {
        "id": "TMjqIHXqBDIH",
        "colab_type": "text"
      },
      "source": [
        "Converting a number from base n to base 10 int (num in base n, n)"
      ]
    },
    {
      "cell_type": "code",
      "metadata": {
        "id": "YU026Qjk-v7j",
        "colab_type": "code",
        "colab": {
          "base_uri": "https://localhost:8080/",
          "height": 37
        },
        "outputId": "46ac1a2c-26e5-4cbd-ef94-099ab6c5a587"
      },
      "source": [
        "str(int('10',2))"
      ],
      "execution_count": 17,
      "outputs": [
        {
          "output_type": "execute_result",
          "data": {
            "application/vnd.google.colaboratory.intrinsic": {
              "type": "string"
            },
            "text/plain": [
              "'2'"
            ]
          },
          "metadata": {
            "tags": []
          },
          "execution_count": 17
        }
      ]
    },
    {
      "cell_type": "markdown",
      "metadata": {
        "id": "UJBB1lZzEFGB",
        "colab_type": "text"
      },
      "source": [
        "End of line in string"
      ]
    },
    {
      "cell_type": "code",
      "metadata": {
        "id": "BZXsKbxiAp9-",
        "colab_type": "code",
        "colab": {
          "base_uri": "https://localhost:8080/",
          "height": 51
        },
        "outputId": "a293d8a8-67a0-4321-aa74-f9ac28647c9e"
      },
      "source": [
        "def sum1():\n",
        "  a = 'asdnfwofn widbfiw\\n wifhwd\\\n",
        "  wdwdvwdvdv\\\n",
        "  wvwdvd'\n",
        "  print(a)\n",
        "sum1()"
      ],
      "execution_count": 18,
      "outputs": [
        {
          "output_type": "stream",
          "text": [
            "asdnfwofn widbfiw\n",
            " wifhwd  wdwdvwdvdv  wvwdvd\n"
          ],
          "name": "stdout"
        }
      ]
    },
    {
      "cell_type": "code",
      "metadata": {
        "id": "ts5yv1AbEok7",
        "colab_type": "code",
        "colab": {
          "base_uri": "https://localhost:8080/",
          "height": 34
        },
        "outputId": "4c11147c-214e-4848-a8f7-75c879712477"
      },
      "source": [
        "l = [1,2,3,4]\n",
        "a = [3,4,5,6]\n",
        "a.pop(-1)\n",
        "a"
      ],
      "execution_count": 19,
      "outputs": [
        {
          "output_type": "execute_result",
          "data": {
            "text/plain": [
              "[3, 4, 5]"
            ]
          },
          "metadata": {
            "tags": []
          },
          "execution_count": 19
        }
      ]
    },
    {
      "cell_type": "markdown",
      "metadata": {
        "id": "ruB_r3KrYUVi",
        "colab_type": "text"
      },
      "source": [
        "Name mangling, Variable name is different if wanted to be called out of the class"
      ]
    },
    {
      "cell_type": "code",
      "metadata": {
        "id": "SRjkI74zJtnU",
        "colab_type": "code",
        "colab": {
          "base_uri": "https://localhost:8080/",
          "height": 51
        },
        "outputId": "8291ae97-7b07-452c-cebc-76ccc98786ee"
      },
      "source": [
        "class student:\n",
        "  #__name = self.__name\n",
        "  def __init__(self, name):\n",
        "    self.name = name\n",
        "  def displayName(self):\n",
        "    print(self.name)\n",
        "\n",
        "##Class vs Object\n",
        "s1 = student('Santosh')\n",
        "s1.displayName()\n",
        "\n",
        "#Raise an error\n",
        "print(s1.name)\n",
        "\n",
        "##If you define a global variable in a function with underscore, \n",
        "##then you have to access the variable by <object>._<class_name><variable_name_starting_with_underscore> "
      ],
      "execution_count": 20,
      "outputs": [
        {
          "output_type": "stream",
          "text": [
            "Santosh\n",
            "Santosh\n"
          ],
          "name": "stdout"
        }
      ]
    },
    {
      "cell_type": "code",
      "metadata": {
        "id": "AuBT2VA0QoMV",
        "colab_type": "code",
        "colab": {
          "base_uri": "https://localhost:8080/",
          "height": 51
        },
        "outputId": "54e73786-e42d-45f2-8ea3-84f582d853ab"
      },
      "source": [
        "class stud(student):\n",
        "  def __init__(self, a, name):\n",
        "    self.a = a\n",
        "    student.__init__(student, name) \n",
        "\n",
        "s2 = stud(45, 'santosh')\n",
        "print(s2.name)\n",
        "print(s2.a)"
      ],
      "execution_count": 21,
      "outputs": [
        {
          "output_type": "stream",
          "text": [
            "santosh\n",
            "45\n"
          ],
          "name": "stdout"
        }
      ]
    }
  ]
}