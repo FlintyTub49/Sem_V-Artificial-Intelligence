{
  "nbformat": 4,
  "nbformat_minor": 0,
  "metadata": {
    "colab": {
      "name": "HW_J003_080820.ipynb",
      "provenance": [],
      "collapsed_sections": [],
      "authorship_tag": "ABX9TyMzMlGFWLryCCGQru/FJdyd",
      "include_colab_link": true
    },
    "kernelspec": {
      "name": "python3",
      "display_name": "Python 3"
    }
  },
  "cells": [
    {
      "cell_type": "markdown",
      "metadata": {
        "id": "view-in-github",
        "colab_type": "text"
      },
      "source": [
        "<a href=\"https://colab.research.google.com/github/FlintyTub49/Sem_V-Artificial-Intelligence/blob/master/Homework/HW_J003_080820.ipynb\" target=\"_parent\"><img src=\"https://colab.research.google.com/assets/colab-badge.svg\" alt=\"Open In Colab\"/></a>"
      ]
    },
    {
      "cell_type": "code",
      "metadata": {
        "id": "5W36YGHsH9Bk",
        "colab_type": "code",
        "colab": {}
      },
      "source": [
        "import sys\n",
        "import heapq\n",
        "\n",
        "def solve(N, M, S, V, E) :\n",
        "\n",
        "    T = tuple(set() for _ in range(N))\n",
        "    for u, v in E :\n",
        "        T[u].add(v)\n",
        "        T[v].add(u)\n",
        "    Totals = sum(V)\n",
        "    sequence = sorted(range(nodes), reverse=True, key=(lambda i : V[i]/S[i]))\n",
        "    valMax = 0\n",
        "        \n",
        "    def obtMaxVal(doneVis, joined, rejected, size, value, valRej, valMax) :\n",
        "        if value > valMax :\n",
        "            valMax = value\n",
        "            \n",
        "        if not joined :\n",
        "            return valMax\n",
        "        \n",
        "        i = obtBestVal(joined)\n",
        "        if size + S[i] <= M :\n",
        "            valMax = obtMaxVal(doneVis|{i}, (joined-{i}) | (T[i]-rejected-doneVis), rejected, size+S[i], value+V[i], valRej, valMax)\n",
        "            \n",
        "        if Totals - (valRej + V[i]) > valMax :\n",
        "            valMax = obtMaxVal(doneVis|{i}, joined-{i}, rejected | {i}, size, value, valRej + V[i], valMax)\n",
        "            \n",
        "        return valMax\n",
        "\n",
        "    def obtBestVal(joined) :\n",
        "        for i in sequence :\n",
        "            if i in joined :\n",
        "                return i\n",
        "            \n",
        "    for k in sequence :\n",
        "        valMax = obtMaxVal(set(),{k},set(),0,0,0,valMax)\n",
        "\n",
        "    return valMax"
      ],
      "execution_count": 1,
      "outputs": []
    },
    {
      "cell_type": "code",
      "metadata": {
        "id": "Dv306vzgvlVT",
        "colab_type": "code",
        "colab": {
          "base_uri": "https://localhost:8080/",
          "height": 527
        },
        "outputId": "cda03f0d-8e43-4fc7-efdc-f3ff7398eb5d"
      },
      "source": [
        "T = int(input())\n",
        "for _ in range(T) :\n",
        "    print('Enter the values of n, m, s, v and connecntions')\n",
        "    nodes, knapsack = (int(_) for _ in input().split())\n",
        "    sizes = tuple(int(_) for _ in input().split())\n",
        "    values = tuple(int(_) for _ in input().split())\n",
        "    temp = tuple((int(_)-1 for _ in input().split()) for _ in range(nodes-1))\n",
        "    print('Maximum Value of Nodes That can be in the Knapsack: ', solve(nodes, knapsack, sizes, values, temp), end='\\n')"
      ],
      "execution_count": 2,
      "outputs": [
        {
          "output_type": "stream",
          "text": [
            "3\n",
            "Enter the values of n, m, s, v and connecntions\n",
            "3 1\n",
            "1 1 1\n",
            "1 2 3\n",
            "1 2\n",
            "1 3\n",
            "Maximum Value of Nodes That can be in the Knapsack:  3\n",
            "Enter the values of n, m, s, v and connecntions\n",
            "5 3\n",
            "1 1 1 1 1\n",
            "3 5 2 2 3\n",
            "1 2\n",
            "1 3\n",
            "2 4\n",
            "2 5\n",
            "Maximum Value of Nodes That can be in the Knapsack:  11\n",
            "Enter the values of n, m, s, v and connecntions\n",
            "9 7\n",
            "1 1 3 2 1 1 1 5 5\n",
            "1 0 8 5 1 2 0 9 14\n",
            "1 2\n",
            "2 3\n",
            "2 4\n",
            "3 5\n",
            "3 6\n",
            "4 7\n",
            "4 8\n",
            "7 9\n",
            "Maximum Value of Nodes That can be in the Knapsack:  15\n"
          ],
          "name": "stdout"
        }
      ]
    }
  ]
}