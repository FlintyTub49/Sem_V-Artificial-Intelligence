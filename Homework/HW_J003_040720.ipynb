{
  "nbformat": 4,
  "nbformat_minor": 0,
  "metadata": {
    "colab": {
      "name": "HW_J003_040720.ipynb",
      "provenance": [],
      "collapsed_sections": [],
      "authorship_tag": "ABX9TyPwc/26aeIVPDA6JNljRJ9k",
      "include_colab_link": true
    },
    "kernelspec": {
      "name": "python3",
      "display_name": "Python 3"
    }
  },
  "cells": [
    {
      "cell_type": "markdown",
      "metadata": {
        "id": "view-in-github",
        "colab_type": "text"
      },
      "source": [
        "<a href=\"https://colab.research.google.com/github/FlintyTub49/Sem_V-Artificial-Intelligence/blob/master/Homework/HW_J003_040720.ipynb\" target=\"_parent\"><img src=\"https://colab.research.google.com/assets/colab-badge.svg\" alt=\"Open In Colab\"/></a>"
      ]
    },
    {
      "cell_type": "markdown",
      "metadata": {
        "id": "Aw0ey38ztBjR",
        "colab_type": "text"
      },
      "source": [
        "### Task - Python If Else\n",
        "Given an integer, , perform the following conditional actions:\n",
        "If n is odd, print Weird\n",
        "If n is even and in the inclusive range of  2 to 5 , print Not Weird\n",
        "If n is even and in the inclusive range of  6 to 20, print Weird\n",
        "If n is even and greater than 20, print Not Weird"
      ]
    },
    {
      "cell_type": "code",
      "metadata": {
        "id": "uUgxSTNqsx6r",
        "colab_type": "code",
        "colab": {
          "base_uri": "https://localhost:8080/",
          "height": 51
        },
        "outputId": "e0a0d89c-3475-43a9-df5d-7486910fc4cd"
      },
      "source": [
        "if __name__ == '__main__':\n",
        "    n = int(input().strip())\n",
        "\n",
        "if (n%2 !=0) or (n%2 ==0 and n>=6 and n<=20):\n",
        "    print ('Weird')\n",
        "elif (n%2==0 and (n>=2) and (n<=5)) or (n%2==0 and n>20):\n",
        "    print('Not Weird')\n"
      ],
      "execution_count": 2,
      "outputs": [
        {
          "output_type": "stream",
          "text": [
            "24\n",
            "Not Weird\n"
          ],
          "name": "stdout"
        }
      ]
    },
    {
      "cell_type": "markdown",
      "metadata": {
        "id": "jjHmzncft1nM",
        "colab_type": "text"
      },
      "source": [
        "### Task - Arithmetic Operators\n",
        "Read two integers from STDIN and print three lines where:\n",
        "The first line contains the sum of the two numbers.\n",
        "The second line contains the difference of the two numbers (first - second).\n",
        "The third line contains the product of the two numbers"
      ]
    },
    {
      "cell_type": "code",
      "metadata": {
        "id": "01AZCopus-un",
        "colab_type": "code",
        "colab": {
          "base_uri": "https://localhost:8080/",
          "height": 102
        },
        "outputId": "b9aeaf51-e8c1-4885-a2cd-4e51a9b23bbf"
      },
      "source": [
        "if __name__ == '__main__':\n",
        "    a = int(input())\n",
        "    b = int(input())\n",
        "print(a+b)\n",
        "print(a-b)\n",
        "print(a*b)"
      ],
      "execution_count": 3,
      "outputs": [
        {
          "output_type": "stream",
          "text": [
            "3\n",
            "2\n",
            "5\n",
            "1\n",
            "6\n"
          ],
          "name": "stdout"
        }
      ]
    },
    {
      "cell_type": "markdown",
      "metadata": {
        "id": "4_SJo5njuEH8",
        "colab_type": "text"
      },
      "source": [
        "### Task - Python Division\n",
        "\n",
        "Read two integers and print two lines. The first line should contain integer division, a//b . The second line should contain float division,  a/b .\n",
        "You don't need to perform any rounding or formatting operations."
      ]
    },
    {
      "cell_type": "code",
      "metadata": {
        "id": "nmmHZHJquAMP",
        "colab_type": "code",
        "colab": {
          "base_uri": "https://localhost:8080/",
          "height": 85
        },
        "outputId": "40a4a0cb-7d18-47c3-a075-2aa79f14a379"
      },
      "source": [
        "if __name__ == '__main__':\n",
        "    a = int(input())\n",
        "    b = int(input())\n",
        "print(a//b)\n",
        "print(a/b)"
      ],
      "execution_count": 4,
      "outputs": [
        {
          "output_type": "stream",
          "text": [
            "4\n",
            "3\n",
            "1\n",
            "1.3333333333333333\n"
          ],
          "name": "stdout"
        }
      ]
    },
    {
      "cell_type": "markdown",
      "metadata": {
        "id": "egL1ZvfEujk0",
        "colab_type": "text"
      },
      "source": [
        "### Task - For Loops In Python \n",
        "Read an integer N. For all non-negative integers i < N, print N. See the sample for details."
      ]
    },
    {
      "cell_type": "code",
      "metadata": {
        "id": "q9vmC8uvuci5",
        "colab_type": "code",
        "colab": {
          "base_uri": "https://localhost:8080/",
          "height": 119
        },
        "outputId": "486d7353-61b2-4c3c-b94d-bf409143c877"
      },
      "source": [
        "if __name__ == '__main__':\n",
        "    n = int(input())\n",
        "for i in range(n):\n",
        "    print(i*i)"
      ],
      "execution_count": 8,
      "outputs": [
        {
          "output_type": "stream",
          "text": [
            "5\n",
            "0\n",
            "1\n",
            "4\n",
            "9\n",
            "16\n"
          ],
          "name": "stdout"
        }
      ]
    },
    {
      "cell_type": "markdown",
      "metadata": {
        "id": "ywnKIPIcu2lc",
        "colab_type": "text"
      },
      "source": [
        "### Task - Print Function\n",
        "Read an Integer N:\n",
        "Without using any string methods, try to print the following: 123....N\n",
        "Note that \"...\" represents the values in between."
      ]
    },
    {
      "cell_type": "code",
      "metadata": {
        "id": "mJe5d831uziH",
        "colab_type": "code",
        "colab": {
          "base_uri": "https://localhost:8080/",
          "height": 51
        },
        "outputId": "5c076331-7b13-4df1-eead-41749d743b0e"
      },
      "source": [
        "if __name__ == '__main__':\n",
        "    n = int(input())\n",
        "num = 1\n",
        "for i in range(1,n+1):\n",
        "    print(i,end='')\n"
      ],
      "execution_count": 6,
      "outputs": [
        {
          "output_type": "stream",
          "text": [
            "3\n",
            "123"
          ],
          "name": "stdout"
        }
      ]
    },
    {
      "cell_type": "markdown",
      "metadata": {
        "id": "6hvHGsBQvPll",
        "colab_type": "text"
      },
      "source": [
        "### Task - List Comprehensions\n",
        "Let's learn about list comprehensions! You are given three integers X,Y and Z representing the dimensions of a cuboid along with an integer . You have to print a list of all possible coordinates given by (i, j, k) on a 3D grid where the sum of i+j+k is not equal to N."
      ]
    },
    {
      "cell_type": "code",
      "metadata": {
        "id": "iQI3HM9CvHdp",
        "colab_type": "code",
        "colab": {
          "base_uri": "https://localhost:8080/",
          "height": 102
        },
        "outputId": "3742fda4-e67e-4f07-afa9-8eb06292881a"
      },
      "source": [
        "if __name__ == '__main__':\n",
        "    x = int(input())\n",
        "    y = int(input())\n",
        "    z = int(input())\n",
        "    n = int(input())\n",
        "l = []\n",
        "for i in range(x+1):\n",
        "    for j in range(y+1):\n",
        "        for k in range(z+1):\n",
        "            if i+j+k != n:\n",
        "                l.append([i,j,k])\n",
        "print(l)"
      ],
      "execution_count": 7,
      "outputs": [
        {
          "output_type": "stream",
          "text": [
            "1\n",
            "1\n",
            "1\n",
            "2\n",
            "[[0, 0, 0], [0, 0, 1], [0, 1, 0], [1, 0, 0], [1, 1, 1]]\n"
          ],
          "name": "stdout"
        }
      ]
    }
  ]
}