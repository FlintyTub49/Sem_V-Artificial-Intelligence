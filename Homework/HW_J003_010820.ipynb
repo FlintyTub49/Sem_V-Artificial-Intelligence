{
  "nbformat": 4,
  "nbformat_minor": 0,
  "metadata": {
    "colab": {
      "name": "HW_J003_010820.ipynb",
      "provenance": [],
      "collapsed_sections": [],
      "authorship_tag": "ABX9TyMHR8EnaTNefNf7F0rNNkHS",
      "include_colab_link": true
    },
    "kernelspec": {
      "name": "python3",
      "display_name": "Python 3"
    }
  },
  "cells": [
    {
      "cell_type": "markdown",
      "metadata": {
        "id": "view-in-github",
        "colab_type": "text"
      },
      "source": [
        "<a href=\"https://colab.research.google.com/github/FlintyTub49/Sem_V-Artificial-Intelligence/blob/master/Homework/HW_J003_010820.ipynb\" target=\"_parent\"><img src=\"https://colab.research.google.com/assets/colab-badge.svg\" alt=\"Open In Colab\"/></a>"
      ]
    },
    {
      "cell_type": "markdown",
      "metadata": {
        "id": "40PQLvN4J70X",
        "colab_type": "text"
      },
      "source": [
        "<h2> Sherlock Holmes Problem </h2>\n",
        "Question Link :- https://www.hackerrank.com/challenges/sherlock-and-cost/problem"
      ]
    },
    {
      "cell_type": "code",
      "metadata": {
        "id": "UTfcoF5kMm_A",
        "colab_type": "code",
        "colab": {
          "base_uri": "https://localhost:8080/",
          "height": 85
        },
        "outputId": "7b5524cd-2418-497d-d058-c5fb597c1e1b"
      },
      "source": [
        "def cost(B):\n",
        "    n = len(B)\n",
        "    high, lower = 0,0\n",
        "    for i in range(1, n): \n",
        "        firtosec = abs(B[i-1] - 1)\n",
        "        sectothir = abs(B[i] - 1)\n",
        "        low_next = max(lower, high + firtosec)\n",
        "        hi_next = max(high, lower + sectothir)\n",
        "        lower = low_next\n",
        "        high = hi_next\n",
        "    return max (high,lower)\n",
        "\n",
        "t = int(input())\n",
        "for t_itr in range(t):\n",
        "    n = int(input())\n",
        "    B = list(map(int, input().split()))\n",
        "    result = cost(B)\n",
        "print(str(result))"
      ],
      "execution_count": 1,
      "outputs": [
        {
          "output_type": "stream",
          "text": [
            "1\n",
            "5\n",
            "100 2 100 2 100\n",
            "396\n"
          ],
          "name": "stdout"
        }
      ]
    },
    {
      "cell_type": "markdown",
      "metadata": {
        "id": "VTZ95A4Fkx9P",
        "colab_type": "text"
      },
      "source": [
        "If we look at the problem statement carefully, we can see that it is obvious that for the cost to be maximum, each value of A[i] should be either 1 or B[i].<br>\n",
        "\n",
        "The first two statements consider 2 elements and alternately consider one of them to be 1 to maximize the cost. We also have to already defined cost values which we would have gotten from some previous 2 numbers (hence in the start they are 0).<br>\n",
        "\n",
        "We find the absolute values between the numbers and obtain 2 costs (Once assuming the 1st number is 1, next considering the 2nd number is 1). Hence we consider our 2 new costs and add them to our 2 previous costs (we add the costs because the sum of the costs has to be maximum) and then compare them to our previous costs.<br>\n",
        "\n",
        "If the new costs are greater, we assign them to be our current costs. But if they are not, we keep the previous costs as the cost because the iteration of considering whichever element to be 1 did not satisfy our problem."
      ]
    },
    {
      "cell_type": "markdown",
      "metadata": {
        "id": "tTeZBQdpKesp",
        "colab_type": "text"
      },
      "source": [
        "<h2> Postal Codes Problem </h2>\n",
        "Question Link :- https://www.hackerrank.com/challenges/validating-postalcode/problem"
      ]
    },
    {
      "cell_type": "code",
      "metadata": {
        "id": "Uwqh633cRk9J",
        "colab_type": "code",
        "colab": {
          "base_uri": "https://localhost:8080/",
          "height": 51
        },
        "outputId": "8e947111-720d-4c18-e75c-dd200578f077"
      },
      "source": [
        "regex_integer_in_range = r\"^[1-9][0-9]{5}$\"\t# Do not delete 'r'.\n",
        "regex_alternating_repetitive_digit_pair = r\"(\\d)(?=\\d\\1)\"\t# Do not delete 'r'.\n",
        "\n",
        "import re\n",
        "line=input()\n",
        "print(bool(re.match(regex_integer_in_range,line)) and len(re.findall(regex_alternating_repetitive_digit_pair,line))<2)"
      ],
      "execution_count": 2,
      "outputs": [
        {
          "output_type": "stream",
          "text": [
            "121406\n",
            "True\n"
          ],
          "name": "stdout"
        }
      ]
    },
    {
      "cell_type": "markdown",
      "metadata": {
        "id": "50ZMvJpdoBRd",
        "colab_type": "text"
      },
      "source": [
        "We use the package regex to solve this problem without if statetment (it was not allowed to use).<br>\n",
        "\n",
        "In the regex_iunteger_in_range variable, the first square bracket is for checking the first number is between 1 and 9. and the next square bracket is for checking the number is between 0 to 9. The 5 in curly bracket says that the 0 to 9 rule be applied to the 5 digits after the first digit.<br>\n",
        "\n",
        "In the regex_alternating_repetitive_digit_pair, the \\d command is used for checking if the input is a digit or not, ?=\\d\\1 is used to check if the alternating position is a repaeating digit or not.<br>\n",
        "\n",
        "re.match is used to match a constraint to a given input whereas, re.findall returns a count of a certain condition existing in an input. These are also functions of the re package."
      ]
    },
    {
      "cell_type": "markdown",
      "metadata": {
        "id": "9ghvUSv0M-Hb",
        "colab_type": "text"
      },
      "source": [
        "<h2> Coin Exchange Problem </h2>\n",
        "Question Link :- https://www.hackerrank.com/challenges/coin-change/problem"
      ]
    },
    {
      "cell_type": "code",
      "metadata": {
        "id": "UNfdkLcvNFoS",
        "colab_type": "code",
        "colab": {
          "base_uri": "https://localhost:8080/",
          "height": 68
        },
        "outputId": "c0a7d56d-34a1-4275-b582-79c3f4978ef7"
      },
      "source": [
        "def getWays(n, c):\n",
        "    methods = [1] + [0]*n\n",
        "    for vals in c:\n",
        "        for i in range(vals, n+1):\n",
        "            methods[i] += methods[i-vals]\n",
        "    return methods[n]\n",
        "\n",
        "first_multiple_input = input().rstrip().split()\n",
        "n = int(first_multiple_input[0])\n",
        "m = int(first_multiple_input[1])\n",
        "c = list(map(int, input().rstrip().split()))\n",
        "\n",
        "ways = getWays(n, c)\n",
        "print(str(ways))"
      ],
      "execution_count": 3,
      "outputs": [
        {
          "output_type": "stream",
          "text": [
            "4 3\n",
            "1 2 3\n",
            "4\n"
          ],
          "name": "stdout"
        }
      ]
    },
    {
      "cell_type": "markdown",
      "metadata": {
        "id": "1Ui21HeYIQZX",
        "colab_type": "text"
      },
      "source": [
        "We have defined our methods array which has all values from 0 to 5 which is suppose the sum we want to acheive using the given coins. We the iterate the list c so that we get value of each coin.<br>\n",
        "\n",
        "There is 1 way to get 0 from the first coin, say that is take 0 coins, this is why initialize the first element, corresponding to our sum of 0 to 1. Then if we move to achieve sum of 1, we will write the ways to acheive that using the first coin in c in the array location 1. This will go on till n values of the array is reached.<br>\n",
        "\n",
        "Then we move to the second coin, now when we iterate through the loop again for the second coin, we will try to achieve the sum same as each index of the array through both the coins now. Thus all array positions having values less than the coin value will remain same as previous step. The moment the array index becomes equal to the coin value, we will need to add how we acheived the sum including previous values.<br>\n",
        "\n",
        "For eg, if we have to calculate sum of 3 using coins of 1 and 2, we can get 3 using 1 coins in 1 way, but if we coins of 1 and 2 both, we can get them in 1 way using only 1s coins and we will add to it how we achieved the sum of 1 using 2 coins, i.e. also 1, hence a total of 2 values.<br>\n",
        "\n",
        "This loop repeats until in the finla iteration of c, all coins are considered and we are left with the sum of ways we can acheive the given sum using the given set of coins to us."
      ]
    }
  ]
}