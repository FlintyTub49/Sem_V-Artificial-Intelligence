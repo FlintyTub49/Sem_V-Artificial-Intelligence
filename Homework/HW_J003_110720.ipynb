{
  "nbformat": 4,
  "nbformat_minor": 0,
  "metadata": {
    "colab": {
      "name": "HW_J003_110720.ipynb",
      "provenance": [],
      "collapsed_sections": [],
      "authorship_tag": "ABX9TyNC9N7ARVRECg6DyZOuiki1",
      "include_colab_link": true
    },
    "kernelspec": {
      "name": "python3",
      "display_name": "Python 3"
    }
  },
  "cells": [
    {
      "cell_type": "markdown",
      "metadata": {
        "id": "view-in-github",
        "colab_type": "text"
      },
      "source": [
        "<a href=\"https://colab.research.google.com/github/FlintyTub49/Sem_V-Artificial-Intelligence/blob/master/Homework/HW_J003_110720.ipynb\" target=\"_parent\"><img src=\"https://colab.research.google.com/assets/colab-badge.svg\" alt=\"Open In Colab\"/></a>"
      ]
    },
    {
      "cell_type": "code",
      "metadata": {
        "id": "R7MHrn28ltpC",
        "colab_type": "code",
        "colab": {
          "base_uri": "https://localhost:8080/",
          "height": 71
        },
        "outputId": "d50e0af0-b8f9-4bfd-bdeb-48ff8f4cf4e5"
      },
      "source": [
        "import numpy as np\n",
        "import pandas as pd\n",
        "import matplotlib.pyplot as plt\n",
        "import seaborn as sns"
      ],
      "execution_count": 1,
      "outputs": [
        {
          "output_type": "stream",
          "text": [
            "/usr/local/lib/python3.6/dist-packages/statsmodels/tools/_testing.py:19: FutureWarning: pandas.util.testing is deprecated. Use the functions in the public API at pandas.testing instead.\n",
            "  import pandas.util.testing as tm\n"
          ],
          "name": "stderr"
        }
      ]
    },
    {
      "cell_type": "code",
      "metadata": {
        "id": "W5JHM7XsnKjJ",
        "colab_type": "code",
        "colab": {}
      },
      "source": [
        "class DataRead():\n",
        "  def __init__(self,filename):\n",
        "    self.data = pd.read_csv(filename)\n",
        "\n",
        "  def display_rows(self,x,y):\n",
        "    print(self.data.iloc[[x, y]])\n",
        "\n",
        "class DataRead2(DataRead):\n",
        "  #def __init__(self, filename):\n",
        "    #DataRead.__init__(DataRead, filename)\n",
        "\n",
        "  def plot_correlation(self):\n",
        "    temp_data = self.data\n",
        "    correlation = temp_data.corr()\n",
        "    sns.heatmap(correlation)\n",
        "    plt.show()\n",
        "\n",
        "  def display_rows(self,x,y,z):\n",
        "    print(self.data.iloc[[x, y, z]])"
      ],
      "execution_count": 2,
      "outputs": []
    },
    {
      "cell_type": "markdown",
      "metadata": {
        "id": "2Wdb2nx13yb3",
        "colab_type": "text"
      },
      "source": [
        "###Creating a custom class to read the data into a Pandas DataFrame"
      ]
    },
    {
      "cell_type": "code",
      "metadata": {
        "id": "wNjCjVbMnbWu",
        "colab_type": "code",
        "colab": {
          "base_uri": "https://localhost:8080/",
          "height": 119
        },
        "outputId": "81282c78-9c68-448a-d669-8e50bbea0abc"
      },
      "source": [
        "filename = 'datasets_19_420_Iris.csv'\n",
        "s1 = DataRead(filename)\n",
        "print(s1.data.head())"
      ],
      "execution_count": 3,
      "outputs": [
        {
          "output_type": "stream",
          "text": [
            "   Id  SepalLengthCm  SepalWidthCm  PetalLengthCm  PetalWidthCm      Species\n",
            "0   1            5.1           3.5            1.4           0.2  Iris-setosa\n",
            "1   2            4.9           3.0            1.4           0.2  Iris-setosa\n",
            "2   3            4.7           3.2            1.3           0.2  Iris-setosa\n",
            "3   4            4.6           3.1            1.5           0.2  Iris-setosa\n",
            "4   5            5.0           3.6            1.4           0.2  Iris-setosa\n"
          ],
          "name": "stdout"
        }
      ]
    },
    {
      "cell_type": "markdown",
      "metadata": {
        "id": "U8wmi9RU3-yl",
        "colab_type": "text"
      },
      "source": [
        "###Creating a custom function RowSelect within the class to select any 2 rows of the choice of the user to be displayed from the dataframe"
      ]
    },
    {
      "cell_type": "code",
      "metadata": {
        "id": "e6Quf1EarohL",
        "colab_type": "code",
        "colab": {
          "base_uri": "https://localhost:8080/",
          "height": 102
        },
        "outputId": "fd7204ee-73f4-45ae-9f13-c750e6df2399"
      },
      "source": [
        "x = int(input('Enter row number to be displayed: '))\n",
        "y = int(input('Enter row number to be displayed: '))\n",
        "s1.display_rows(x-1,y-1)"
      ],
      "execution_count": 4,
      "outputs": [
        {
          "output_type": "stream",
          "text": [
            "Enter row number to be displayed: 3\n",
            "Enter row number to be displayed: 4\n",
            "   Id  SepalLengthCm  SepalWidthCm  PetalLengthCm  PetalWidthCm      Species\n",
            "2   3            4.7           3.2            1.3           0.2  Iris-setosa\n",
            "3   4            4.6           3.1            1.5           0.2  Iris-setosa\n"
          ],
          "name": "stdout"
        }
      ]
    },
    {
      "cell_type": "markdown",
      "metadata": {
        "id": "UMuYmLeD4PdJ",
        "colab_type": "text"
      },
      "source": [
        "### Creating a DataRead1 as DataRead2 that has a function for correlation plots"
      ]
    },
    {
      "cell_type": "code",
      "metadata": {
        "id": "ilhOZ26yr_9O",
        "colab_type": "code",
        "colab": {
          "base_uri": "https://localhost:8080/",
          "height": 338
        },
        "outputId": "7e2bfe55-17e5-433c-de73-5dd3eb8e1a31"
      },
      "source": [
        "s2 = DataRead2(filename)\n",
        "s2.plot_correlation()"
      ],
      "execution_count": 5,
      "outputs": [
        {
          "output_type": "display_data",
          "data": {
            "image/png": "[encoded data removed]",
            "text/plain": [
              "<Figure size 432x288 with 2 Axes>"
            ]
          },
          "metadata": {
            "tags": [],
            "needs_background": "light"
          }
        }
      ]
    },
    {
      "cell_type": "markdown",
      "metadata": {
        "id": "AzIuvJfA4Yeo",
        "colab_type": "text"
      },
      "source": [
        "### Within DataRead2, creating a function to override the custom function of DataRead1 RowSelect to select 3 rows"
      ]
    },
    {
      "cell_type": "code",
      "metadata": {
        "id": "tDKEXdRNwVN_",
        "colab_type": "code",
        "colab": {
          "base_uri": "https://localhost:8080/",
          "height": 136
        },
        "outputId": "af37a616-a979-43c3-c208-9367cbcd58d3"
      },
      "source": [
        "x = int(input('Enter row number to be displayed: '))\n",
        "y = int(input('Enter row number to be displayed: '))\n",
        "z = int(input('Enter row number to be displayed: '))\n",
        "s2.display_rows(x-1,y-1,z-1)"
      ],
      "execution_count": 6,
      "outputs": [
        {
          "output_type": "stream",
          "text": [
            "Enter row number to be displayed: 3\n",
            "Enter row number to be displayed: 4\n",
            "Enter row number to be displayed: 5\n",
            "   Id  SepalLengthCm  SepalWidthCm  PetalLengthCm  PetalWidthCm      Species\n",
            "2   3            4.7           3.2            1.3           0.2  Iris-setosa\n",
            "3   4            4.6           3.1            1.5           0.2  Iris-setosa\n",
            "4   5            5.0           3.6            1.4           0.2  Iris-setosa\n"
          ],
          "name": "stdout"
        }
      ]
    }
  ]
}